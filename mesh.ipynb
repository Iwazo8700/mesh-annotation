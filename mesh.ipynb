{
 "cells": [
  {
   "cell_type": "code",
   "execution_count": null,
   "metadata": {},
   "outputs": [],
   "source": [
    "! wget http://ftp.unicamp.br/pub/apache/lucene/solr/8.2.0/solr-8.2.0.zip -q\n",
    "! unzip -qq solr-8.2.0.zip && rm solr-8.2.0.zip\n",
    "! ./solr-8.2.0/bin/solr start -c"
   ]
  },
  {
   "cell_type": "code",
   "execution_count": null,
   "metadata": {},
   "outputs": [],
   "source": [
    "'''! ./solr-8.2.0/bin/solr create -c cabot -p 8983\n",
    "import pysolr\n",
    "# Create a client instance. The timeout and authentication options are not required.\n",
    "solr = pysolr.Solr('http://localhost:8983/solr/', always_commit=True, [timeout=10], [auth=<type of authentication>])\n",
    "\n",
    "# Note that auto_commit defaults to False for performance. You can set\n",
    "# `auto_commit=True` to have commands always update the index immediately, make\n",
    "# an update call with `commit=True`, or use Solr's `autoCommit` / `commitWithin`\n",
    "# to have your data be committed following a particular policy.\n",
    "\n",
    "# Do a health check.\n",
    "solr.ping()'''"
   ]
  },
  {
   "cell_type": "code",
   "execution_count": 22,
   "metadata": {},
   "outputs": [
    {
     "name": "stdout",
     "output_type": "stream",
     "text": [
      "WARNING: Using _default configset with data driven schema functionality. NOT RECOMMENDED for production use.\n",
      "         To turn off: bin/solr config -c mesh -p 8983 -action set-user-property -property update.autoCreateFields -value false\n",
      "\n",
      "ERROR: \n",
      "Collection 'mesh' already exists!\n",
      "Checked collection existence using Collections API command:\n",
      "http://localhost:8983/solr/admin/collections?action=list\n",
      "\n"
     ]
    }
   ],
   "source": [
    "! ./solr-8.2.0/bin/solr create -c mesh -p 8983\n",
    "import pysolr\n",
    "solr_server_url = 'http://localhost:8983/solr/'\n",
    "solr_collection = \"mesh\"\n",
    "solr = pysolr.Solr(solr_server_url + solr_collection)"
   ]
  },
  {
   "cell_type": "code",
   "execution_count": 23,
   "metadata": {},
   "outputs": [],
   "source": [
    "\n",
    "import re\n",
    "import string\n",
    "import pandas as pd\n",
    "from functools import reduce\n",
    "from math import log"
   ]
  },
  {
   "cell_type": "code",
   "execution_count": 24,
   "metadata": {},
   "outputs": [],
   "source": [
    "mesh_read = open(\"c2020.bin\", \"r\")"
   ]
  },
  {
   "cell_type": "code",
   "execution_count": 19,
   "metadata": {},
   "outputs": [
    {
     "data": {
      "text/plain": [
       "'i = -1;\\nvet = [\"\"]\\nfor linha in mesh_read:\\n    if(linha == \"*NEWRECORD\\n\"):\\n        i+=1\\n        vet.append(\"\")\\n    vet[i]+=linha\\n    \\nvet[0]'"
      ]
     },
     "execution_count": 19,
     "metadata": {},
     "output_type": "execute_result"
    }
   ],
   "source": [
    "'''i = -1;\n",
    "vet = [\"\"]\n",
    "for linha in mesh_read:\n",
    "    if(linha == \"*NEWRECORD\\n\"):\n",
    "        i+=1\n",
    "        vet.append(\"\")\n",
    "    vet[i]+=linha\n",
    "    \n",
    "vet[0]'''"
   ]
  },
  {
   "cell_type": "code",
   "execution_count": 25,
   "metadata": {},
   "outputs": [
    {
     "data": {
      "text/plain": [
       "['*NEWRECORD\\nRECTYPE = C\\nNM = bevonium\\nRN = 34B0471E08\\nRR = 33371-53-8 (bevonium)\\nRR = 35517-05-6\\nRR = 5205-82-3 (bevoinum methylsulfate)\\nRR = UWC15E373Z\\nSY = 2-(hydroxymethyl)-N,N-dimethylpiperidinium benzilate|T109|T121|EQV|NLM (2017)|180918|abbdef\\nSY = Acabel|T109|T121|TRD|NRW|NLM (1971)|abbcde\\nSY = CG 201|T109|T121|LAB|NRW|NLM (1971)|abbcde\\nSY = bevonium methyl sulfate|T109|T121|NRW|FDA SRS (2015)|NLM (1971)|abbdee\\nSY = bevonium methylsulfate|T109|T121|NRW|NLM (1971)|990818|abbdef\\nSY = bevonium metilsulfate|T109|T121|NRW|INN (19XX)|150601|abbdef\\nSY = bevonium sulfate (1:1)|T109|T121|NRW|NLM (1971)|990818|abbdef\\nSY = piribenzil methyl sulfate|T109|T121|NRW|NLM (1971)|abbde\\nHM = *Benzilates\\nPI = PIPERIDINES (71-81)\\nSO = S Afr Med J 50(1):4;1976\\nNM_TH = FDA SRS (2013)\\nNM_TH = NLM (1971)\\nST = T109\\nST = T121\\nPA = Anti-Inflammatory Agents, Non-Steroidal\\nFR = 1\\nNO = structure given in first source\\nDA = 19710101\\nMR = 20180924\\nUI = C000002\\n\\n',\n",
       " 'NM',\n",
       " 'bevonium\\n',\n",
       " 'SY',\n",
       " '2-(hydroxymethyl)-N,N-dimethylpiperidinium benzilateAcabelCG 201bevonium methyl sulfatebevonium methylsulfatebevonium metilsulfatebevonium sulfate (1:1)piribenzil methyl sulfate',\n",
       " 'PI',\n",
       " 'PIPERIDINES (71-81)\\n',\n",
       " 'PA',\n",
       " 'Anti-Inflammatory Agents, Non-Steroidal\\n',\n",
       " 'NO',\n",
       " 'structure given in first source\\n']"
      ]
     },
     "execution_count": 25,
     "metadata": {},
     "output_type": "execute_result"
    }
   ],
   "source": [
    "i = -1;\n",
    "vet = []\n",
    "for linha in mesh_read:\n",
    "    if(linha == \"*NEWRECORD\\n\"):\n",
    "        i+=1\n",
    "        vet.append([])\n",
    "        algo = 0\n",
    "        algo2 = 0\n",
    "        algo3 = 0\n",
    "        a = 0\n",
    "        vet[i] = [\"\", \"NM\", \"\", \"SY\", \"\", \"PI\", \"\", \"PA\", \"\", \"NO\", \"\"]\n",
    "    else:\n",
    "        l = linha.split(\"= \")\n",
    "        if(\"NM\" in l[0] and \"NM_TH\" not in l[0]):\n",
    "            vet[i][2]+=l[1]\n",
    "        elif(\"SY\" in l[0]):\n",
    "            l2 = l[1].split(\"|\")\n",
    "            vet[i][4]+=l2[0]\n",
    "        elif(\"PI\" in l[0]):\n",
    "            vet[i][6]+=l[1]\n",
    "        elif(\"PA\" in l[0]):\n",
    "            vet[i][8]+=l[1]\n",
    "        elif(\"NO\" in l[0]):\n",
    "            vet[i][10]+=l[1]\n",
    "    vet[i][0]+=linha\n",
    "    \n",
    "vet[0]"
   ]
  },
  {
   "cell_type": "code",
   "execution_count": null,
   "metadata": {},
   "outputs": [],
   "source": [
    "for i in range(len(vet)):\n",
    "    indice = \"doc_\"+str(i)\n",
    "    solr.add([{\n",
    "        \"ID\": indice,\n",
    "        \"Body\": vet[i][0],\n",
    "        \"Name\": vet[i][2],\n",
    "        \"Synonym\": vet[i][4],\n",
    "        \"Previous Indexing\": vet[i][6],\n",
    "        \"Pharmacological Action\": vet[i][8],\n",
    "        \"Note\": vet[i][10],    \n",
    "    },\n",
    "        ],commit=True)"
   ]
  },
  {
   "cell_type": "code",
   "execution_count": null,
   "metadata": {},
   "outputs": [],
   "source": [
    "def procura(palavra):\n",
    "    results = solr.search('Name:{}'.format(palavra))\n",
    "    results += solr.search('Synonym:{}'.format(palavra))\n",
    "    results += solr.search('Previous Indexing:{}'.format(palavra))\n",
    "    results += solr.search('Pharmacological Action:{}'.format(palavra))\n",
    "    results += solr.search('Note:{}'.format(palavra))\n",
    "    return results"
   ]
  },
  {
   "cell_type": "code",
   "execution_count": 7,
   "metadata": {},
   "outputs": [
    {
     "name": "stdout",
     "output_type": "stream",
     "text": [
      "Found 0 documents\n"
     ]
    }
   ],
   "source": [
    "results = solr.search('body:\"Calcimycin\"')\n",
    "\n",
    "print(\"Found {0} documents\".format(len(results)))\n"
   ]
  },
  {
   "cell_type": "code",
   "execution_count": null,
   "metadata": {},
   "outputs": [],
   "source": [
    "for resutados in results:\n",
    "    print(resultados)"
   ]
  },
  {
   "cell_type": "code",
   "execution_count": null,
   "metadata": {},
   "outputs": [],
   "source": [
    "mesh_read.close()"
   ]
  },
  {
   "cell_type": "code",
   "execution_count": null,
   "metadata": {},
   "outputs": [],
   "source": []
  }
 ],
 "metadata": {
  "kernelspec": {
   "display_name": "Python 3",
   "language": "python",
   "name": "python3"
  },
  "language_info": {
   "codemirror_mode": {
    "name": "ipython",
    "version": 3
   },
   "file_extension": ".py",
   "mimetype": "text/x-python",
   "name": "python",
   "nbconvert_exporter": "python",
   "pygments_lexer": "ipython3",
   "version": "3.7.3"
  }
 },
 "nbformat": 4,
 "nbformat_minor": 2
}
